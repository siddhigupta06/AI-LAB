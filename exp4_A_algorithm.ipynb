{
  "nbformat": 4,
  "nbformat_minor": 0,
  "metadata": {
    "colab": {
      "name": "exp4_A*algorithm.ipynb",
      "provenance": [],
      "collapsed_sections": [],
      "authorship_tag": "ABX9TyODvOifVlydbp433sBiB/TA",
      "include_colab_link": true
    },
    "kernelspec": {
      "name": "python3",
      "display_name": "Python 3"
    }
  },
  "cells": [
    {
      "cell_type": "markdown",
      "metadata": {
        "id": "view-in-github",
        "colab_type": "text"
      },
      "source": [
        "<a href=\"https://colab.research.google.com/github/siddhigupta06/AI-LAB/blob/main/exp4_A_algorithm.ipynb\" target=\"_parent\"><img src=\"https://colab.research.google.com/assets/colab-badge.svg\" alt=\"Open In Colab\"/></a>"
      ]
    },
    {
      "cell_type": "code",
      "metadata": {
        "id": "8ITBma93Y3FE",
        "colab": {
          "base_uri": "https://localhost:8080/",
          "height": 52
        },
        "outputId": "e040bc57-e450-4cf1-9a80-447f11c523d7"
      },
      "source": [
        "class Node():\n",
        "    def __init__(self, parent=None, position=None):\n",
        "        self.parent = parent\n",
        "        self.position = position\n",
        "        self.g = 0\n",
        "        self.h = 0\n",
        "        self.f = 0\n",
        "    def __eq__(self, other):\n",
        "        return self.position == other.position\n",
        "\n",
        "\n",
        "def astar(maze, start, end):\n",
        "    start_node = Node(None, start)\n",
        "    start_node.g = start_node.h = start_node.f = 0\n",
        "    end_node = Node(None, end)\n",
        "    end_node.g = end_node.h = end_node.f = 0\n",
        "    open_list = []\n",
        "    closed_list = []\n",
        "    open_list.append(start_node)\n",
        "\n",
        "\n",
        "    while len(open_list) > 0:\n",
        "        current_node = open_list[0]\n",
        "        current_index = 0\n",
        "        for index, item in enumerate(open_list):\n",
        "            if item.f < current_node.f:\n",
        "                current_node = item\n",
        "                current_index = index\n",
        "        open_list.pop(current_index)\n",
        "        closed_list.append(current_node)\n",
        "\n",
        "       \n",
        "        if current_node == end_node:\n",
        "            path = []\n",
        "            current = current_node\n",
        "            while current is not None:\n",
        "                path.append(current.position)\n",
        "                current = current.parent\n",
        "            return path[::-1]\n",
        "\n",
        "           \n",
        "        children = []\n",
        "        for new_position in [(0, -1), (0, 1), (-1, 0), (1, 0), (-1, -1), (-1, 1), (1, -1), (1, 1)]:\n",
        "            node_position = (current_node.position[0] + new_position[0], current_node.position[1] + new_position[1])\n",
        "            if node_position[0] > (len(maze) - 1) or node_position[0] < 0 or node_position[1] > (\n",
        "                    len(maze[len(maze) - 1]) - 1) or node_position[1] < 0:\n",
        "                continue\n",
        "            if maze[node_position[0]][node_position[1]] != 0:\n",
        "                continue\n",
        "            new_node = Node(current_node, node_position)\n",
        "            children.append(new_node)\n",
        "        for child in children:\n",
        "            for closed_child in closed_list:\n",
        "                if child == closed_child:\n",
        "                    continue\n",
        "            child.g = current_node.g + 1\n",
        "            child.h = ((child.position[0] - end_node.position[0]) ** 2) + (\n",
        "                    (child.position[1] - end_node.position[1]) ** 2)\n",
        "            child.f = child.g + child.h\n",
        "            for open_node in open_list:\n",
        "                if child == open_node and child.g > open_node.g:\n",
        "                    continue\n",
        "            open_list.append(child)\n",
        "def main():\n",
        "    maze = [[0, 0, 0, 0, 1, 0],\n",
        "            [0, 0, 0, 0, 1, 0],\n",
        "            [0, 0, 0, 0, 1, 0],\n",
        "            [0, 0, 0, 0, 1, 0],\n",
        "            [0, 0, 0, 0, 1, 0],\n",
        "            [0, 0, 0, 0, 0, 0]]\n",
        "    graph = [[0, 1, 0, 0, 0, 0],\n",
        "             [1, 0, 1, 0, 1, 0],\n",
        "             [0, 1, 0, 0, 0, 1],\n",
        "             [0, 0, 0, 0, 1, 0],\n",
        "             [0, 1, 0, 1, 0, 0],\n",
        "             [0, 0, 1, 0, 0, 0]\n",
        "             ]\n",
        "    start = (0, 0)\n",
        "    end = (5, 5)\n",
        "    end1 = (5, 5)\n",
        "     \n",
        "    path = astar(maze, start, end)\n",
        "    print(path)\n",
        "    #second answer from 0,0 to 5,5\n",
        "    path1 = astar(graph, start, end1)\n",
        "    print(path1)\n",
        "if __name__ == '__main__':\n",
        "    main()"
      ],
      "execution_count": null,
      "outputs": [
        {
          "output_type": "stream",
          "text": [
            "[(0, 0), (1, 1), (2, 2), (3, 3), (4, 3), (5, 4), (5, 5)]\n",
            "[(0, 0), (1, 1), (2, 2), (3, 3), (4, 4), (5, 5)]\n"
          ],
          "name": "stdout"
        }
      ]
    }
  ]
}