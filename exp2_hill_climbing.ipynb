{
  "nbformat": 4,
  "nbformat_minor": 0,
  "metadata": {
    "colab": {
      "name": "exp2_hill_climbing.ipynb",
      "provenance": [],
      "include_colab_link": true
    },
    "kernelspec": {
      "name": "python3",
      "display_name": "Python 3"
    }
  },
  "cells": [
    {
      "cell_type": "markdown",
      "metadata": {
        "id": "view-in-github",
        "colab_type": "text"
      },
      "source": [
        "<a href=\"https://colab.research.google.com/github/siddhigupta06/AI-LAB/blob/main/exp2_hill_climbing.ipynb\" target=\"_parent\"><img src=\"https://colab.research.google.com/assets/colab-badge.svg\" alt=\"Open In Colab\"/></a>"
      ]
    },
    {
      "cell_type": "code",
      "metadata": {
        "id": "5ivR6b3K0hA0"
      },
      "source": [
        ""
      ],
      "execution_count": null,
      "outputs": []
    },
    {
      "cell_type": "code",
      "metadata": {
        "id": "DzCS80DP0nBc"
      },
      "source": [
        "def generate_random_solution(length=11):\n",
        "  return [random.choice(string.printable) for _ in range(length)]\n"
      ],
      "execution_count": null,
      "outputs": []
    },
    {
      "cell_type": "code",
      "metadata": {
        "id": "9KjqD4hy07bM"
      },
      "source": [
        "def evaluate(solution): \n",
        "  target = \"Hello, World!\".split(\"\") \n",
        "  diff = 0\n",
        "  for i in range(len(target)): \n",
        "    s = solution[i] \n",
        "    t = target[i] \n",
        "    diff += abs(ord(s) - ord(t)) \n",
        "    return diff\n"
      ],
      "execution_count": null,
      "outputs": []
    },
    {
      "cell_type": "code",
      "metadata": {
        "id": "l7GD7Apz1IMG"
      },
      "source": [
        "def mutate_solution(solution): \n",
        "  index = random.randint(0, len(solution) - 1) \n",
        "  solution[index] = random.choice(string.printable)"
      ],
      "execution_count": null,
      "outputs": []
    },
    {
      "cell_type": "code",
      "metadata": {
        "id": "fcY24y441WQp"
      },
      "source": [
        "import random \n",
        "import string \n",
        " \n",
        "def generate_random_solution(length=13): \n",
        "  return [random.choice(string.printable) for _ in range(length)] \n",
        " \n",
        " \n",
        "def evaluate(solution): \n",
        "  target = list(\"Hello, World!\") \n",
        "  diff = 0\n",
        "  for i in range(len(target)): \n",
        "    s = solution[i] \n",
        "    t = target[i] \n",
        "    diff += abs(ord(s) - ord(t)) \n",
        "  return diff \n",
        " \n",
        "\n",
        "\n",
        "def mutate_solution(solution): \n",
        "  index = random.randint(0, len(solution) - 1) \n",
        "  solution[index] = random.choice(string.printable) \n",
        "  \n",
        "\n",
        "best = generate_random_solution() \n",
        "best_score = evaluate(best) \n",
        "\n",
        "\n",
        "while True: \n",
        "  print('Best score so far', best_score, 'Solution', \"\".join(best)) \n",
        "  if best_score == 0:\n",
        "    break\n",
        "  new_solution = list(best) \n",
        "  mutate_solution(new_solution) \n",
        "  score = evaluate(new_solution) \n",
        "  if evaluate(new_solution) < best_score: \n",
        "    best = new_solution \n",
        "    best_score = score"
      ],
      "execution_count": null,
      "outputs": []
    }
  ]
}