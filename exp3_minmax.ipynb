{
  "nbformat": 4,
  "nbformat_minor": 0,
  "metadata": {
    "colab": {
      "name": "exp3_minmax.ipynb",
      "provenance": [],
      "authorship_tag": "ABX9TyP/AmTKAZkBUe4VYILXznQp",
      "include_colab_link": true
    },
    "kernelspec": {
      "name": "python3",
      "display_name": "Python 3"
    }
  },
  "cells": [
    {
      "cell_type": "markdown",
      "metadata": {
        "id": "view-in-github",
        "colab_type": "text"
      },
      "source": [
        "<a href=\"https://colab.research.google.com/github/siddhigupta06/AI-LAB/blob/main/exp3_minmax.ipynb\" target=\"_parent\"><img src=\"https://colab.research.google.com/assets/colab-badge.svg\" alt=\"Open In Colab\"/></a>"
      ]
    },
    {
      "cell_type": "code",
      "metadata": {
        "id": "YAlY3cQS-05k",
        "colab": {
          "base_uri": "https://localhost:8080/",
          "height": 34
        },
        "outputId": "8f6bf9ed-4213-4beb-e3de-a0bf420479f5"
      },
      "source": [
        "MAX, MIN = 1000, -1000 \n",
        "\n",
        "def minimax(depth, nodeIndex, maximizingPlayer,  \n",
        "            values, alpha, beta):  \n",
        "\n",
        "\n",
        "    if depth == 3:  \n",
        "        return values[nodeIndex]  \n",
        "\n",
        "\n",
        "    if maximizingPlayer:  \n",
        "        best = MIN \n",
        "        for i in range(0, 2):  \n",
        "            val = minimax(depth + 1, nodeIndex * 2 + i,  \n",
        "                          False, values, alpha, beta)  \n",
        "            best = max(best, val)  \n",
        "            alpha = max(alpha, best)  \n",
        "   \n",
        "            if beta <= alpha:  \n",
        "                break \n",
        "        return best  \n",
        "\n",
        "    \n",
        "    else: \n",
        "        best = MAX \n",
        "        for i in range(0, 2):  \n",
        "            val = minimax(depth + 1, nodeIndex * 2 + i,  \n",
        "                            True, values, alpha, beta)  \n",
        "            best = min(best, val)  \n",
        "            beta = min(beta, best)  \n",
        "   \n",
        "            if beta <= alpha:  \n",
        "                break \n",
        "        return best  \n",
        "        \n",
        "if __name__ == \"__main__\":  \n",
        "   \n",
        "    values = [9, 100, -20, 10, -10, 2, 8, -5]  \n",
        "    #Calling the function for the first time. \n",
        "    print(\"The optimal value is :\", minimax(0, 0, True, values, MIN, MAX))  \n",
        "      "
      ],
      "execution_count": null,
      "outputs": [
        {
          "output_type": "stream",
          "text": [
            "The optimal value is : 9\n"
          ],
          "name": "stdout"
        }
      ]
    }
  ]
}